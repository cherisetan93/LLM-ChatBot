{
 "cells": [
  {
   "cell_type": "markdown",
   "id": "743e0134",
   "metadata": {},
   "source": [
    "# ChatBot: Chinese Seafood Restaurant in Singapore\n",
    "\n",
    "### Advanced trained LLM ChatBot with natural language processing capabilities can simulate human-like conversations, providing a more interactive and engaging experience for users.\n",
    "\n",
    "#### ChatBot Features:\n",
    "i. Customer Support - Support inquires of customers. \n",
    "\n",
    "ii. Automated Transactions - Users to make online purchases, provides food order recommendations, delivery options."
   ]
  },
  {
   "cell_type": "code",
   "execution_count": 4,
   "id": "370d5ca5",
   "metadata": {},
   "outputs": [],
   "source": [
    "import os\n",
    "import openai\n",
    "from dotenv import load_dotenv, find_dotenv\n",
    "_ = load_dotenv(find_dotenv()) # read local .env file\n",
    "\n",
    "openai.api_key  = os.getenv('OPENAI_API_KEY')"
   ]
  },
  {
   "cell_type": "code",
   "execution_count": 5,
   "id": "5648c6ba",
   "metadata": {},
   "outputs": [],
   "source": [
    "def get_messages(messages, model=\"gpt-3.5-turbo\", temperature=0):\n",
    "    response = openai.ChatCompletion.create(\n",
    "        model=model,\n",
    "        messages=messages,\n",
    "        temperature=temperature, # this is the degree of randomness of the model's output\n",
    "    )\n",
    "#     print(str(response.choices[0].message))\n",
    "    return response.choices[0].message[\"content\"]"
   ]
  },
  {
   "cell_type": "code",
   "execution_count": null,
   "id": "83c712b3",
   "metadata": {},
   "outputs": [],
   "source": [
    "def collect_user_messages(_):\n",
    "    prompt = inp.value_input\n",
    "    inp.value = ''\n",
    "    context.append({'role':'user', 'content':f\"{prompt}\"})\n",
    "    response = get_messages(context) \n",
    "    context.append({'role':'assistant', 'content':f\"{response}\"})\n",
    "    panels.append(\n",
    "        pn.Row('Customer:', pn.pane.Markdown(prompt, width=800, style={'color': '#00008B'})))\n",
    "    panels.append(\n",
    "        pn.Row('AI Assistant:', pn.pane.Markdown(response, width=800, style={'color': '#5A5A5A'})))\n",
    " \n",
    "    return pn.Column(*panels)"
   ]
  },
  {
   "cell_type": "code",
   "execution_count": null,
   "id": "bf8d4c6b",
   "metadata": {},
   "outputs": [],
   "source": [
    "import panel as pn  # GUI\n",
    "pn.extension()\n",
    "\n",
    "panels = [] # collect display \n",
    "\n",
    "context = [ {'role':'system', 'content':\"\"\"\n",
    "You are ChatBot, an automated service to answer inquires and support cutomers\n",
    "for a online Chinese Seafood Restaurant. \\\n",
    "Your job is to also collect orders for Chinese Seafood Restaurant. \\\n",
    "You first greet the customer, ask how can you help them? \\\n",
    "If the customer ask for general information like about us. Share\n",
    "with them, we are a renown chinese seafood restaurant that sells chinese\n",
    "dishes in a professional way. \\\n",
    "If the customer ask to talk directly to our customer support, let them know they can\n",
    "contact us at contact number +65 8213 7423 or email us at renown@chinese_restaurant.com.sg. \\\n",
    "If the customer wants to make an order of food, \\\n",
    "and then asks if it's a pickup or delivery. \\\n",
    "You wait to collect the entire order, then summarize it and check for a final \\\n",
    "time if the customer wants to add anything else. \\\n",
    "Recommend them food based on their preferences and choices of food selected. \\\n",
    "If it's a delivery, you ask for an address. \\\n",
    "Finally you collect the payment.\\\n",
    "Make sure to clarify all options, extras and sizes to uniquely \\\n",
    "identify the item from the menu.\\\n",
    "You respond in a short, very conversational friendly style. \\\n",
    "The menu includes \\\n",
    "Egg Fried Rice  15.00, 10.00, 7.00 \\\n",
    "Yangzhou Fried Rice  18.00, 15.00, 10.00 \\\n",
    "Hong Kong Fried Noodles  18.00, 15.00, 10.00 \\\n",
    "Hor Fun Noodles with Seafood  18.00, 15.00, 10.00 \\\n",
    "Peking Duck (Whole)   35.00 \\\n",
    "Garlic Chicken (Whole)   24.00 \\\n",
    "Broccoli Stir Fried with Scallops 36.00, 30.00, 28.00 \\\n",
    "Kang Kong Stir Fried with Sambal 15.00, 10.00, 7.00 \\\n",
    "Sweet and Sour Pork   18.00, 15.00, 10.00 \\\n",
    "Pork Ribs Glazed with Tangerine Honey   18.00, 15.00, 10.00 \\\n",
    "Stir Fried Sambal Clam  20.00, 16.00, 12.00 \\\n",
    "Golden Salted Egg Prawn  20.00, 16.00, 12.00 \\\n",
    "Cod Fish Wok Fired with Chef's Special Sauce  48.00, 36.00, 30.00 \\\n",
    "Seafood Pumpkin Soup  25.00, 18.00, 15.00 \\\n",
    "Crab Meat and Fish Maw Soup  48.00, 36.00, 30.00 \\\n",
    "Rice  1.50 \\\n",
    "Drinks: \\\n",
    "coke 3.00, 2.00, 1.00 \\\n",
    "sprite 3.00, 2.00, 1.00 \\\n",
    "bottled water 5.00 \\\n",
    "\"\"\"} ]  # accumulate messages\n",
    "\n",
    "\n",
    "inp = pn.widgets.TextInput(value=\"Hi\", placeholder='Enter text here…')\n",
    "button_conversation = pn.widgets.Button(name=\"Chat!\")\n",
    "\n",
    "interactive_conversation = pn.bind(collect_user_messages, button_conversation)\n",
    "\n",
    "dashboard = pn.Column(\n",
    "    inp,\n",
    "    pn.Row(button_conversation),\n",
    "    pn.panel(interactive_conversation, loading_indicator=True),\n",
    ")\n",
    "\n",
    "dashboard"
   ]
  },
  {
   "cell_type": "code",
   "execution_count": null,
   "id": "64ffd263",
   "metadata": {},
   "outputs": [],
   "source": []
  }
 ],
 "metadata": {
  "kernelspec": {
   "display_name": "Python 3 (ipykernel)",
   "language": "python",
   "name": "python3"
  },
  "language_info": {
   "codemirror_mode": {
    "name": "ipython",
    "version": 3
   },
   "file_extension": ".py",
   "mimetype": "text/x-python",
   "name": "python",
   "nbconvert_exporter": "python",
   "pygments_lexer": "ipython3",
   "version": "3.11.5"
  }
 },
 "nbformat": 4,
 "nbformat_minor": 5
}
